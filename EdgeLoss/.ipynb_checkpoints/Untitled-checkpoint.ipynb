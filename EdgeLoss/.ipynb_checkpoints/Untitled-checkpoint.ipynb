{
 "cells": [
  {
   "cell_type": "code",
   "execution_count": 20,
   "metadata": {},
   "outputs": [],
   "source": [
    "import cv2\n",
    "from PIL import Image, ImageOps\n",
    "import os\n",
    "import torchvision\n",
    "import numpy\n",
    "from skimage.metrics import structural_similarity"
   ]
  },
  {
   "cell_type": "code",
   "execution_count": 2,
   "metadata": {},
   "outputs": [],
   "source": [
    "directoryOutput = \"/home/alexander/Classwork/Foundations/resultsTest/drawPaintPhoto/train_latest/images/fake_B/\"\n",
    "directoryInput = \"/home/alexander/Classwork/Foundations/resultsTest/drawPaintPhoto/train_latest/images/real_A/\"\n",
    "imagelistOutput = os.listdir(directoryOutput)\n",
    "imagelistInput = os.listdir(directoryInput)\n"
   ]
  },
  {
   "cell_type": "code",
   "execution_count": 3,
   "metadata": {},
   "outputs": [],
   "source": [
    "i = 0\n",
    "imgReal = cv2.imread(\"/home/alexander/Classwork/Foundations/resultsTest/drawPaintPhoto/train_latest/images/real_A/\"+ imagelistInput[i])"
   ]
  },
  {
   "cell_type": "code",
   "execution_count": 4,
   "metadata": {},
   "outputs": [],
   "source": [
    "imgGen = cv2.imread(\"/home/alexander/Classwork/Foundations/resultsTest/drawPaintPhoto/train_latest/images/fake_B/\"+ imagelistOutput[i])"
   ]
  },
  {
   "cell_type": "code",
   "execution_count": 11,
   "metadata": {},
   "outputs": [
    {
     "name": "stdout",
     "output_type": "stream",
     "text": [
      "SSIM: 0.2776972988902995\n",
      "SSIM: 0.17329605352677305\n",
      "SSIM: 0.36296903169820993\n",
      "SSIM: 0.4174286187622645\n",
      "SSIM: 0.4107090450986959\n",
      "SSIM: 0.4594343055421844\n",
      "SSIM: 0.2992678910975682\n",
      "SSIM: 0.08823947053931787\n",
      "SSIM: 0.2866719878356631\n",
      "SSIM: 0.34737902736021126\n",
      "SSIM: 0.24128756156548672\n",
      "SSIM: 0.221938534813509\n",
      "SSIM: 0.2590655134660856\n",
      "SSIM: 0.2646292894741878\n",
      "SSIM: 0.15007314801308733\n",
      "SSIM: 0.3612988511674701\n",
      "SSIM: 0.28873236858603163\n",
      "SSIM: 0.2173565594276929\n",
      "SSIM: 0.20309348049110904\n",
      "SSIM: 0.48933672956919866\n",
      "SSIM: 0.10578106461496203\n",
      "SSIM: 0.32277800805876483\n",
      "SSIM: 0.12507842087385476\n",
      "SSIM: 0.15329934194784084\n",
      "SSIM: 0.19349372814885318\n",
      "SSIM: 0.2808321216073736\n",
      "SSIM: 0.0948262789460092\n",
      "SSIM: 0.23688201777952622\n",
      "SSIM: 0.31039643930320393\n",
      "SSIM: 0.22296696194343704\n",
      "SSIM: 0.2999482463305423\n",
      "SSIM: 0.4119960321826941\n",
      "SSIM: 0.35512952107013884\n",
      "SSIM: 0.3086574829001752\n",
      "SSIM: 0.34024293061363314\n",
      "SSIM: 0.3305400871402548\n",
      "SSIM: 0.25912853130894165\n",
      "SSIM: 0.180840813184577\n",
      "SSIM: 0.22367677930014568\n",
      "SSIM: 0.45443292560211956\n",
      "SSIM: 0.427105580638543\n",
      "SSIM: 0.21620088917227642\n",
      "SSIM: 0.42660789304533925\n",
      "SSIM: 0.16674013435193366\n",
      "SSIM: 0.21511276568710053\n",
      "SSIM: 0.4508792211593885\n",
      "SSIM: 0.4577786815549403\n",
      "SSIM: 0.10383668844780215\n",
      "SSIM: 0.38414198047750536\n",
      "SSIM: 0.36221805426984705\n",
      "0.28482908777173543\n"
     ]
    }
   ],
   "source": [
    "imagelistOutput = os.listdir(directoryOutput)\n",
    "imagelistInput = os.listdir(directoryInput)\n",
    "\n",
    "totalScore = 0\n",
    "for i in range(len(imagelistOutput)):\n",
    "    imgGen = cv2.imread(directoryOutput + imagelistOutput[i])\n",
    "    imgReal = cv2.imread(directoryInput + imagelistInput[i])\n",
    "\n",
    "    grayR = cv2.cvtColor(imgReal, cv2.COLOR_BGR2GRAY)\n",
    "    grayG = cv2.cvtColor(imgGen, cv2.COLOR_BGR2GRAY)\n",
    "\n",
    "    cv2.imwrite('EdgeImg/Input/' + 'grayReal' + str(i) + '.png',grayR) \n",
    "    cv2.imwrite('EdgeImg/Gen/' + 'grayGen' + str(i) + '.png',grayG) \n",
    "\n",
    "    edgesR = cv2.Canny(grayR, 60, 120)\n",
    "    edgesG= cv2.Canny(grayG, 60, 120)\n",
    "\n",
    "    cv2.imwrite('EdgeImg/Input/' + 'edgeReal' + str(i) + '.png',edgesR) \n",
    "    cv2.imwrite('EdgeImg/Gen/' + 'edgeGen' + str(i) + '.png',edgesG) \n",
    "\n",
    "    (score, diff) = structural_similarity(edgesR, edgesG, full=True)\n",
    "    totalScore = totalScore + score\n",
    "    print(\"SSIM: {}\".format(score))\n",
    "print(totalScore / len(imagelistOutput) )"
   ]
  },
  {
   "cell_type": "code",
   "execution_count": 6,
   "metadata": {},
   "outputs": [
    {
     "name": "stdout",
     "output_type": "stream",
     "text": [
      "SSIM: 0.2776972988902995\n"
     ]
    },
    {
     "name": "stderr",
     "output_type": "stream",
     "text": [
      "/home/alexander/.local/lib/python3.6/site-packages/ipykernel_launcher.py:1: UserWarning: DEPRECATED: skimage.measure.compare_ssim has been moved to skimage.metrics.structural_similarity. It will be removed from skimage.measure in version 0.18.\n",
      "  \"\"\"Entry point for launching an IPython kernel.\n"
     ]
    }
   ],
   "source": [
    "(score, diff) = structural_similarity(edgesR, edgesG, full=True)\n",
    "\n",
    "print(\"SSIM: {}\".format(score))"
   ]
  },
  {
   "cell_type": "code",
   "execution_count": 22,
   "metadata": {},
   "outputs": [
    {
     "ename": "ValueError",
     "evalue": "Only modes ['RGB', 'YCbCr', 'HSV'] are supported for 3D inputs",
     "output_type": "error",
     "traceback": [
      "\u001b[0;31m---------------------------------------------------------------------------\u001b[0m",
      "\u001b[0;31mValueError\u001b[0m                                Traceback (most recent call last)",
      "\u001b[0;32m<ipython-input-22-abf0e8f77db6>\u001b[0m in \u001b[0;36m<module>\u001b[0;34m\u001b[0m\n\u001b[1;32m      1\u001b[0m \u001b[0mimage_2_npArray_2_tensor\u001b[0m \u001b[0;34m=\u001b[0m \u001b[0mtorchvision\u001b[0m\u001b[0;34m.\u001b[0m\u001b[0mtransforms\u001b[0m\u001b[0;34m.\u001b[0m\u001b[0mToTensor\u001b[0m\u001b[0;34m(\u001b[0m\u001b[0;34m)\u001b[0m\u001b[0;34m(\u001b[0m\u001b[0mimgGen\u001b[0m\u001b[0;34m)\u001b[0m\u001b[0;34m\u001b[0m\u001b[0;34m\u001b[0m\u001b[0m\n\u001b[0;32m----> 2\u001b[0;31m \u001b[0mnpArray_2_image\u001b[0m \u001b[0;34m=\u001b[0m \u001b[0mtorchvision\u001b[0m\u001b[0;34m.\u001b[0m\u001b[0mtransforms\u001b[0m\u001b[0;34m.\u001b[0m\u001b[0mToPILImage\u001b[0m\u001b[0;34m(\u001b[0m\u001b[0;34m\"gray\"\u001b[0m\u001b[0;34m)\u001b[0m\u001b[0;34m(\u001b[0m\u001b[0mimage_2_npArray_2_tensor\u001b[0m\u001b[0;34m)\u001b[0m\u001b[0;34m\u001b[0m\u001b[0;34m\u001b[0m\u001b[0m\n\u001b[0m",
      "\u001b[0;32m~/.local/lib/python3.6/site-packages/torchvision/transforms/transforms.py\u001b[0m in \u001b[0;36m__call__\u001b[0;34m(self, pic)\u001b[0m\n\u001b[1;32m    170\u001b[0m \u001b[0;34m\u001b[0m\u001b[0m\n\u001b[1;32m    171\u001b[0m         \"\"\"\n\u001b[0;32m--> 172\u001b[0;31m         \u001b[0;32mreturn\u001b[0m \u001b[0mF\u001b[0m\u001b[0;34m.\u001b[0m\u001b[0mto_pil_image\u001b[0m\u001b[0;34m(\u001b[0m\u001b[0mpic\u001b[0m\u001b[0;34m,\u001b[0m \u001b[0mself\u001b[0m\u001b[0;34m.\u001b[0m\u001b[0mmode\u001b[0m\u001b[0;34m)\u001b[0m\u001b[0;34m\u001b[0m\u001b[0;34m\u001b[0m\u001b[0m\n\u001b[0m\u001b[1;32m    173\u001b[0m \u001b[0;34m\u001b[0m\u001b[0m\n\u001b[1;32m    174\u001b[0m     \u001b[0;32mdef\u001b[0m \u001b[0m__repr__\u001b[0m\u001b[0;34m(\u001b[0m\u001b[0mself\u001b[0m\u001b[0;34m)\u001b[0m\u001b[0;34m:\u001b[0m\u001b[0;34m\u001b[0m\u001b[0;34m\u001b[0m\u001b[0m\n",
      "\u001b[0;32m~/.local/lib/python3.6/site-packages/torchvision/transforms/functional.py\u001b[0m in \u001b[0;36mto_pil_image\u001b[0;34m(pic, mode)\u001b[0m\n\u001b[1;32m    250\u001b[0m         \u001b[0mpermitted_3_channel_modes\u001b[0m \u001b[0;34m=\u001b[0m \u001b[0;34m[\u001b[0m\u001b[0;34m'RGB'\u001b[0m\u001b[0;34m,\u001b[0m \u001b[0;34m'YCbCr'\u001b[0m\u001b[0;34m,\u001b[0m \u001b[0;34m'HSV'\u001b[0m\u001b[0;34m]\u001b[0m\u001b[0;34m\u001b[0m\u001b[0;34m\u001b[0m\u001b[0m\n\u001b[1;32m    251\u001b[0m         \u001b[0;32mif\u001b[0m \u001b[0mmode\u001b[0m \u001b[0;32mis\u001b[0m \u001b[0;32mnot\u001b[0m \u001b[0;32mNone\u001b[0m \u001b[0;32mand\u001b[0m \u001b[0mmode\u001b[0m \u001b[0;32mnot\u001b[0m \u001b[0;32min\u001b[0m \u001b[0mpermitted_3_channel_modes\u001b[0m\u001b[0;34m:\u001b[0m\u001b[0;34m\u001b[0m\u001b[0;34m\u001b[0m\u001b[0m\n\u001b[0;32m--> 252\u001b[0;31m             \u001b[0;32mraise\u001b[0m \u001b[0mValueError\u001b[0m\u001b[0;34m(\u001b[0m\u001b[0;34m\"Only modes {} are supported for 3D inputs\"\u001b[0m\u001b[0;34m.\u001b[0m\u001b[0mformat\u001b[0m\u001b[0;34m(\u001b[0m\u001b[0mpermitted_3_channel_modes\u001b[0m\u001b[0;34m)\u001b[0m\u001b[0;34m)\u001b[0m\u001b[0;34m\u001b[0m\u001b[0;34m\u001b[0m\u001b[0m\n\u001b[0m\u001b[1;32m    253\u001b[0m         \u001b[0;32mif\u001b[0m \u001b[0mmode\u001b[0m \u001b[0;32mis\u001b[0m \u001b[0;32mNone\u001b[0m \u001b[0;32mand\u001b[0m \u001b[0mnpimg\u001b[0m\u001b[0;34m.\u001b[0m\u001b[0mdtype\u001b[0m \u001b[0;34m==\u001b[0m \u001b[0mnp\u001b[0m\u001b[0;34m.\u001b[0m\u001b[0muint8\u001b[0m\u001b[0;34m:\u001b[0m\u001b[0;34m\u001b[0m\u001b[0;34m\u001b[0m\u001b[0m\n\u001b[1;32m    254\u001b[0m             \u001b[0mmode\u001b[0m \u001b[0;34m=\u001b[0m \u001b[0;34m'RGB'\u001b[0m\u001b[0;34m\u001b[0m\u001b[0;34m\u001b[0m\u001b[0m\n",
      "\u001b[0;31mValueError\u001b[0m: Only modes ['RGB', 'YCbCr', 'HSV'] are supported for 3D inputs"
     ]
    }
   ],
   "source": [
    "image_2_npArray_2_tensor = torchvision.transforms.ToTensor()(imgGen)\n",
    "npArray_2_image = torchvision.transforms.ToPILImage(\"RGB\")(image_2_npArray_2_tensor)"
   ]
  },
  {
   "cell_type": "code",
   "execution_count": 21,
   "metadata": {},
   "outputs": [],
   "source": [
    "open_cv_image = numpy.array(npArray_2_image) \n",
    "grayR = cv2.cvtColor(open_cv_image, cv2.COLOR_BGR2GRAY)\n",
    "edgesR = cv2.Canny(grayR, 60, 120)"
   ]
  }
 ],
 "metadata": {
  "kernelspec": {
   "display_name": "Python 3",
   "language": "python",
   "name": "python3"
  },
  "language_info": {
   "codemirror_mode": {
    "name": "ipython",
    "version": 3
   },
   "file_extension": ".py",
   "mimetype": "text/x-python",
   "name": "python",
   "nbconvert_exporter": "python",
   "pygments_lexer": "ipython3",
   "version": "3.6.9"
  }
 },
 "nbformat": 4,
 "nbformat_minor": 4
}
